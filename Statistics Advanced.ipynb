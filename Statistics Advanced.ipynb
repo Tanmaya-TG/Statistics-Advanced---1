{
  "cells": [
    {
      "cell_type": "markdown",
      "id": "4d05364a",
      "metadata": {
        "id": "4d05364a"
      },
      "source": [
        "# Statistics Advanced - Assignment Answers\n",
        "\n",
        "---"
      ]
    },
    {
      "cell_type": "markdown",
      "id": "a2c91b3e",
      "metadata": {
        "id": "a2c91b3e"
      },
      "source": [
        "## Question 1: What is a random variable in probability theory?\n",
        "\n",
        "**Answer:**\n",
        "\n",
        "A **random variable** is a function that assigns a real number to each outcome in a sample space of a random experiment. It maps outcomes of a random process to numerical values, allowing probabilistic analysis and the computation of distributions, expectations, and variances. Random variables are typically denoted by capital letters like $X$, $Y$."
      ]
    },
    {
      "cell_type": "markdown",
      "id": "c7f3e051",
      "metadata": {
        "id": "c7f3e051"
      },
      "source": [
        "## Question 2: What are the types of random variables?\n",
        "\n",
        "**Answer:**\n",
        "\n",
        "There are two main types of random variables:\n",
        "\n",
        "1. **Discrete random variables**: Take on a countable set of distinct values (e.g., number of heads in 10 coin flips). They have a probability mass function (PMF).\n",
        "2. **Continuous random variables**: Take on values from a continuous range (e.g., heights, weights). They have a probability density function (PDF).\n",
        "\n",
        "Additionally, one sometimes mentions **mixed** random variables (part discrete, part continuous)."
      ]
    },
    {
      "cell_type": "markdown",
      "id": "cf1e5c84",
      "metadata": {
        "id": "cf1e5c84"
      },
      "source": [
        "## Question 3: Explain the difference between discrete and continuous distributions.\n",
        "\n",
        "**Answer:**\n",
        "\n",
        "- **Discrete distributions**: Defined for discrete random variables. Probabilities are assigned to specific values. The PMF $P(X=x)$ gives the probability that $X$ equals a particular value. Example: Binomial, Poisson.\n",
        "\n",
        "- **Continuous distributions**: Defined for continuous random variables. Probabilities for exact values are 0; instead, probabilities are computed over intervals using the PDF $f(x)$ and integrals: $P(a\\le X\\le b)=\\int_a^b f(x)\\,dx$. Example: Normal, Exponential.\n",
        "\n",
        "Key conceptual difference: discrete values vs continuous ranges; PMF vs PDF; sums vs integrals for probability calculations."
      ]
    },
    {
      "cell_type": "markdown",
      "id": "545cbe21",
      "metadata": {
        "id": "545cbe21"
      },
      "source": [
        "## Question 4: What is a binomial distribution, and how is it used in probability?\n",
        "\n",
        "**Answer:**\n",
        "\n",
        "The **binomial distribution** models the number of successes in a fixed number $n$ of independent Bernoulli trials, each with the same probability of success $p$. The probability of observing exactly $k$ successes is:\n",
        "\n",
        "$$P(X=k)=\\binom{n}{k}p^k(1-p)^{n-k},\\quad k=0,1,\\dots,n.$$\n",
        "\n",
        "It is used when there are repeated independent trials with two outcomes (success/failure), such as coin flips, quality-control pass/fail checks, or survey responses (yes/no). Mean: $np$, Variance: $np(1-p)$."
      ]
    },
    {
      "cell_type": "markdown",
      "id": "5ef012a0",
      "metadata": {
        "id": "5ef012a0"
      },
      "source": [
        "## Question 5: What is the standard normal distribution, and why is it important?\n",
        "\n",
        "**Answer:**\n",
        "\n",
        "The **standard normal distribution** is the normal (Gaussian) distribution with mean 0 and standard deviation 1, usually denoted $Z\\sim N(0,1)$. Its PDF is:\n",
        "\n",
        "$$f(z)=\\frac{1}{\\sqrt{2\\pi}}e^{-z^2/2}.$$\n",
        "\n",
        "Importance:\n",
        "- Many real-world phenomena approximate a normal distribution.\n",
        "- Standardization: Any normal variable $X\\sim N(\\mu,\\sigma^2)$ can be converted to the standard normal via $Z=(X-\\mu)/\\sigma$, allowing use of standard tables.\n",
        "- The standard normal underpins many statistical methods and inference procedures, including z-tests and the Central Limit Theorem."
      ]
    },
    {
      "cell_type": "markdown",
      "id": "67a3a3f4",
      "metadata": {
        "id": "67a3a3f4"
      },
      "source": [
        "## Question 6: What is the Central Limit Theorem (CLT), and why is it critical in statistics?\n",
        "\n",
        "**Answer:**\n",
        "\n",
        "The **Central Limit Theorem** states that, for a large enough sample size $n$, the sampling distribution of the sample mean (or sum) of independent, identically distributed random variables with finite mean and variance approaches a normal distribution, regardless of the original variable's distribution. Formally, if $X_1,\\dots,X_n$ are i.i.d. with mean $\\mu$ and variance $\\sigma^2$, then:\n",
        "\n",
        "$$\\frac{\\overline{X}-\\mu}{\\sigma/\\sqrt{n}}\\xrightarrow{d} N(0,1) \\quad\\text{as } n\\to\\infty.$$\n",
        "\n",
        "Why critical:\n",
        "- Allows use of normal-based inference (confidence intervals, hypothesis tests) even when underlying data are not normal, given sufficiently large $n$.\n",
        "- Provides theoretical justification for many practical statistical techniques."
      ]
    },
    {
      "cell_type": "markdown",
      "id": "c2c40938",
      "metadata": {
        "id": "c2c40938"
      },
      "source": [
        "## Question 7: What is the significance of confidence intervals in statistical analysis?\n",
        "\n",
        "**Answer:**\n",
        "\n",
        "A **confidence interval (CI)** gives a range of plausible values for an unknown population parameter (e.g., mean or proportion) computed from sample data. A 95% CI for a parameter means that, under repeated sampling, approximately 95% of such intervals will contain the true parameter value.\n",
        "\n",
        "Significance:\n",
        "- Quantifies uncertainty around point estimates.\n",
        "- Helps make decisions by showing precision (interval width) and reliability (confidence level).\n",
        "- Used widely in reporting results and in hypothesis testing (if a CI excludes a null value, it corresponds to rejection at the associated significance level)."
      ]
    },
    {
      "cell_type": "markdown",
      "id": "7f0a3d11",
      "metadata": {
        "id": "7f0a3d11"
      },
      "source": [
        "## Question 8: What is the concept of expected value in a probability distribution?\n",
        "\n",
        "**Answer:**\n",
        "\n",
        "The **expected value** (or expectation, mean) of a random variable is its long-run average value after many independent repetitions of the experiment. For a discrete variable $X$ with values $x_i$ and probabilities $p_i$,\n",
        "\n",
        "$$E[X]=\\sum_i x_i p_i.$$\n",
        "\n",
        "For a continuous variable with PDF $f(x)$,\n",
        "\n",
        "$$E[X]=\\int_{-\\infty}^{\\infty} x f(x)\\,dx.$$\n",
        "\n",
        "The expected value summarizes the center of a distribution and is used in decision-making, risk assessment, and as a parameter in many statistical procedures."
      ]
    },
    {
      "cell_type": "markdown",
      "id": "07b687a1",
      "metadata": {
        "id": "07b687a1"
      },
      "source": [
        "## Question 9: Generate 1000 random numbers from Normal(mean=50, sd=5). Compute mean & sd and draw a histogram.\n",
        "\n",
        "**Answer (code + output):**"
      ]
    },
    {
      "cell_type": "code",
      "execution_count": 1,
      "id": "fb38b723",
      "metadata": {
        "colab": {
          "base_uri": "https://localhost:8080/",
          "height": 484
        },
        "id": "fb38b723",
        "outputId": "2c45df18-1134-4a12-e976-353499ae2a46"
      },
      "outputs": [
        {
          "output_type": "stream",
          "name": "stdout",
          "text": [
            "Sample mean: 49.7737\n",
            "Sample standard deviation (sample sd): 4.9376\n"
          ]
        },
        {
          "output_type": "display_data",
          "data": {
            "text/plain": [
              "<Figure size 800x450 with 1 Axes>"
            ],
            "image/png": "[encoded data removed]"
          },
          "metadata": {}
        }
      ],
      "source": [
        "# Question 9: Generate samples from a normal distribution, compute mean & sd, and plot histogram.\n",
        "import numpy as np\n",
        "import matplotlib.pyplot as plt\n",
        "\n",
        "np.random.seed(0)  # for reproducibility\n",
        "samples = np.random.normal(loc=50, scale=5, size=1000)\n",
        "\n",
        "sample_mean = samples.mean()\n",
        "sample_std = samples.std(ddof=1)  # sample standard deviation (n-1)\n",
        "\n",
        "print(f\"Sample mean: {sample_mean:.4f}\")\n",
        "print(f\"Sample standard deviation (sample sd): {sample_std:.4f}\")\n",
        "\n",
        "# Plot histogram\n",
        "plt.figure(figsize=(8,4.5))\n",
        "plt.hist(samples, bins=30, edgecolor='black')\n",
        "plt.title('Histogram of 1000 samples from N(50, 5^2)')\n",
        "plt.xlabel('Value')\n",
        "plt.ylabel('Frequency')\n",
        "plt.grid(False)\n",
        "plt.show()"
      ]
    },
    {
      "cell_type": "markdown",
      "id": "c64fcc6d",
      "metadata": {
        "id": "c64fcc6d"
      },
      "source": [
        "## Question 10: Applying CLT to estimate average sales with 95% CI\n",
        "\n",
        "**Problem:** You have daily sales data for 2 years (here a sample list of 20 days provided). Use the CLT to estimate the average sales with a 95% confidence interval and write Python code to compute mean and CI.\n",
        "\n",
        "**Approach (explanation):**\n",
        "\n",
        "- Treat the daily sales as a sample from the population of daily sales.\n",
        "- By the Central Limit Theorem, the sample mean approximately follows a normal distribution with mean $\\mu$ (true mean) and standard error $\\sigma/\\sqrt{n}$, where $\\sigma$ is the population SD. If $\\sigma$ is unknown, use the sample SD and the t-distribution for small samples.\n",
        "- For a 95% CI for the mean when population SD is unknown and sample size is small, use the t-distribution:\n",
        "\n",
        "$$\\overline{x} \\pm t_{\\alpha/2, n-1} \\cdot \\frac{s}{\\sqrt{n}}$$\n",
        "\n",
        "where $s$ is the sample standard deviation and $t_{\\alpha/2,n-1}$ is the critical t-value for 95% CI.\n",
        "\n",
        "**Python code and output:**"
      ]
    },
    {
      "cell_type": "code",
      "execution_count": 2,
      "id": "f231d2ef",
      "metadata": {
        "colab": {
          "base_uri": "https://localhost:8080/"
        },
        "id": "f231d2ef",
        "outputId": "0a9c96be-074b-4f80-e319-b0e42d1c2052"
      },
      "outputs": [
        {
          "output_type": "stream",
          "name": "stdout",
          "text": [
            "n = 20\n",
            "Sample mean = 248.2500\n",
            "Sample SD = 17.2653\n",
            "Standard error = 3.8606\n",
            "t critical (df=19) = 2.0930\n",
            "95% CI for mean: (240.1696, 256.3304)\n"
          ]
        }
      ],
      "source": [
        "import numpy as np\n",
        "import scipy.stats as stats\n",
        "\n",
        "daily_sales = [220, 245, 210, 265, 230, 250, 260, 275, 240, 255,\n",
        "               235, 260, 245, 250, 225, 270, 265, 255, 250, 260]\n",
        "\n",
        "data = np.array(daily_sales)\n",
        "n = len(data)\n",
        "mean = data.mean()\n",
        "sd_sample = data.std(ddof=1)\n",
        "se = sd_sample / np.sqrt(n)\n",
        "\n",
        "# 95% CI using t-distribution\n",
        "alpha = 0.05\n",
        "t_crit = stats.t.ppf(1 - alpha/2, df=n-1)\n",
        "ci_lower = mean - t_crit * se\n",
        "ci_upper = mean + t_crit * se\n",
        "\n",
        "print(f\"n = {n}\")\n",
        "print(f\"Sample mean = {mean:.4f}\")\n",
        "print(f\"Sample SD = {sd_sample:.4f}\")\n",
        "print(f\"Standard error = {se:.4f}\")\n",
        "print(f\"t critical (df={n-1}) = {t_crit:.4f}\")\n",
        "print(f\"95% CI for mean: ({ci_lower:.4f}, {ci_upper:.4f})\")"
      ]
    }
  ],
  "metadata": {
    "colab": {
      "provenance": []
    },
    "language_info": {
      "name": "python"
    },
    "kernelspec": {
      "name": "python3",
      "display_name": "Python 3"
    }
  },
  "nbformat": 4,
  "nbformat_minor": 5
}